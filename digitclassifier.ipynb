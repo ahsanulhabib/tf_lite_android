{
  "nbformat": 4,
  "nbformat_minor": 0,
  "metadata": {
    "colab": {
      "name": "digitclassifier.ipynb",
      "provenance": [],
      "collapsed_sections": [],
      "include_colab_link": true
    },
    "kernelspec": {
      "name": "python3",
      "display_name": "Python 3"
    },
    "accelerator": "GPU"
  },
  "cells": [
    {
      "cell_type": "markdown",
      "metadata": {
        "id": "view-in-github",
        "colab_type": "text"
      },
      "source": [
        "<a href=\"https://colab.research.google.com/github/raqueeb/tf_lite_android/blob/master/digitclassifier.ipynb\" target=\"_parent\"><img src=\"https://colab.research.google.com/assets/colab-badge.svg\" alt=\"Open In Colab\"/></a>"
      ]
    },
    {
      "cell_type": "markdown",
      "metadata": {
        "id": "EXyJkL4WnqyS",
        "colab_type": "text"
      },
      "source": [
        "## অ্যান্ড্রয়েড অ্যাপের জন্য \"এমনিস্ট\" হাতে লেখা ডিজিট চিনতে মডেল ট্রেনিং (২)"
      ]
    },
    {
      "cell_type": "markdown",
      "metadata": {
        "id": "XXX8WpQI5U6_",
        "colab_type": "text"
      },
      "source": [
        "হালের ফ্যাশন 'এমনিস্ট' ডেটাসেট নিয়ে কাজ করলেও আমার মন পড়েছিল কিভাবে আসল 'এমনিস্ট' নিয়ে কাজ করা যায়। সেই সুযোগটা নিলাম এই মোবাইল অ্যাপ এর জন্য মডেল তৈরি করতে গিয়ে। একই কোড কাজ করবে এখানে, ফ্যাশন এমনিস্টএর মতো। শুধুমাত্র অ্যাডঅন, মডেলটাকে কনভার্ট করবো টেন্সরফ্লো লাইটে - মোবাইল ডিভাইসে চালানোর জন্য  "
      ]
    },
    {
      "cell_type": "code",
      "metadata": {
        "id": "kS_mq4yAlXHZ",
        "colab_type": "code",
        "colab": {
          "base_uri": "https://localhost:8080/",
          "height": 52
        },
        "outputId": "87236354-cbf1-4ac4-ee8e-832f3187ebba"
      },
      "source": [
        "# শুধুমাত্র টেন্সরফ্লো ২.x এর জন্য\n",
        "try:\n",
        "  # %tensorflow_version only exists in Colab.\n",
        "  %tensorflow_version 2.x\n",
        "except Exception:\n",
        "  pass\n",
        "\n",
        "from __future__ import absolute_import, division, print_function, unicode_literals\n",
        "\n",
        "# টেন্সরফ্লো ২.x এবং tf.keras\n",
        "import tensorflow as tf\n",
        "from tensorflow import keras\n",
        "\n",
        "# সাহায্যকারী লাইব্রেরি\n",
        "import numpy as np\n",
        "import matplotlib.pyplot as plt\n",
        "import random\n",
        "\n",
        "print(tf.__version__)"
      ],
      "execution_count": 1,
      "outputs": [
        {
          "output_type": "stream",
          "text": [
            "TensorFlow 2.x selected.\n",
            "2.1.0-rc1\n"
          ],
          "name": "stdout"
        }
      ]
    },
    {
      "cell_type": "markdown",
      "metadata": {
        "id": "r0WlLrJcnwWp",
        "colab_type": "text"
      },
      "source": [
        "## ডাউনলোড করি \"এমনিস্ট\" ডেটাসেট\n",
        "\n",
        "একই ৬০,০০০ এবং ১০,০০০ ট্রেনিং এবং টেস্ট ইমেজ তবে এবার হাতেলেখা ০ থেকে ৯ পর্যন্ত ইংরেজি সংখ্যা। ০ থেকে ৯ সংখ্যা মানে আগের মতো ১০টা ক্লাস।\n",
        "\n",
        "আগের মতো ইমেজগুলো ২৮ x ২৮ পিক্সেলের গ্রেস্কেল ইমেজ। ছবি দেখুন।\n",
        "![MNIST sample](https://github.com/khanhlvg/DigitClassifier/raw/master/images/mnist.png)"
      ]
    },
    {
      "cell_type": "code",
      "metadata": {
        "id": "B5REuMrblewK",
        "colab_type": "code",
        "colab": {
          "base_uri": "https://localhost:8080/",
          "height": 52
        },
        "outputId": "31d4b8a2-5675-4e24-d0c7-c4b5420b5de1"
      },
      "source": [
        "# কেরাস থেকে এপিআই দিয়ে ডাউনলোড করে দেখাচ্ছি, টিএফডিএস নয়, ভ্যারিয়েশন\n",
        "# ট্রেনিং এবং টেস্ট ডেটাসেট\n",
        "mnist = keras.datasets.mnist\n",
        "(train_images, train_labels), (test_images, test_labels) = mnist.load_data()"
      ],
      "execution_count": 2,
      "outputs": [
        {
          "output_type": "stream",
          "text": [
            "Downloading data from https://storage.googleapis.com/tensorflow/tf-keras-datasets/mnist.npz\n",
            "11493376/11490434 [==============================] - 0s 0us/step\n"
          ],
          "name": "stdout"
        }
      ]
    },
    {
      "cell_type": "code",
      "metadata": {
        "id": "REY5lDDylpFh",
        "colab_type": "code",
        "colab": {
          "base_uri": "https://localhost:8080/",
          "height": 35
        },
        "outputId": "ea98ebfd-05a3-467b-d7b4-c8374bcc5f7a"
      },
      "source": [
        "# আগের মতো নর্মালাইজ করে ০ থেকে ১ এর মধ্যে রাখছি\n",
        "train_images = train_images / 255.0\n",
        "test_images = test_images / 255.0\n",
        "print('Pixels are normalized')"
      ],
      "execution_count": 3,
      "outputs": [
        {
          "output_type": "stream",
          "text": [
            "Pixels are normalized\n"
          ],
          "name": "stdout"
        }
      ]
    },
    {
      "cell_type": "markdown",
      "metadata": {
        "id": "9v-Wp3TxpLX6",
        "colab_type": "text"
      },
      "source": [
        "## টেন্সরফ্লো মডেল তৈরি ডিজিট ক্লাসিফাই করার জন্য\n",
        "\n",
        "একদম আগের মতো। কোন পার্থক্য় নেই।"
      ]
    },
    {
      "cell_type": "code",
      "metadata": {
        "id": "IWgBGmaplzcp",
        "colab_type": "code",
        "colab": {
          "base_uri": "https://localhost:8080/",
          "height": 225
        },
        "outputId": "14bf44df-84cd-4a09-9b98-ac3f81539c18"
      },
      "source": [
        "# শুরুতে মডেল আর্কিটেকচার ডিফাইন করছি\n",
        "model = keras.Sequential([\n",
        "  keras.layers.InputLayer(input_shape=(28, 28)),\n",
        "  keras.layers.Reshape(target_shape=(28, 28, 1)),\n",
        "  keras.layers.Conv2D(filters=12, kernel_size=(3, 3), activation=tf.nn.relu),\n",
        "  keras.layers.MaxPooling2D(pool_size=(2, 2)),\n",
        "  keras.layers.Flatten(),\n",
        "  keras.layers.Dense(10, activation=tf.nn.softmax)\n",
        "])\n",
        "\n",
        "# মডেলকে ট্রেইন করতে হবে, তার আগে কম্পাইল\n",
        "model.compile(optimizer='adam',\n",
        "              loss='sparse_categorical_crossentropy',\n",
        "              metrics=['accuracy'])\n",
        "\n",
        "# ডিজিট ক্লাসিফিকেশন মডেল ট্রেনিং\n",
        "model.fit(train_images, train_labels, epochs=5)"
      ],
      "execution_count": 4,
      "outputs": [
        {
          "output_type": "stream",
          "text": [
            "Train on 60000 samples\n",
            "Epoch 1/5\n",
            "60000/60000 [==============================] - 11s 177us/sample - loss: 0.2655 - accuracy: 0.9264\n",
            "Epoch 2/5\n",
            "60000/60000 [==============================] - 4s 67us/sample - loss: 0.1035 - accuracy: 0.9708\n",
            "Epoch 3/5\n",
            "60000/60000 [==============================] - 4s 72us/sample - loss: 0.0759 - accuracy: 0.9785\n",
            "Epoch 4/5\n",
            "60000/60000 [==============================] - 4s 68us/sample - loss: 0.0626 - accuracy: 0.9818\n",
            "Epoch 5/5\n",
            "60000/60000 [==============================] - 4s 68us/sample - loss: 0.0540 - accuracy: 0.9839\n"
          ],
          "name": "stdout"
        },
        {
          "output_type": "execute_result",
          "data": {
            "text/plain": [
              "<tensorflow.python.keras.callbacks.History at 0x7fc3f04e26a0>"
            ]
          },
          "metadata": {
            "tags": []
          },
          "execution_count": 4
        }
      ]
    },
    {
      "cell_type": "markdown",
      "metadata": {
        "id": "WFHKkb7gcJei",
        "colab_type": "text"
      },
      "source": [
        "মডেলের সামারি"
      ]
    },
    {
      "cell_type": "code",
      "metadata": {
        "id": "y7V6-UQqcuK-",
        "colab_type": "code",
        "colab": {
          "base_uri": "https://localhost:8080/",
          "height": 329
        },
        "outputId": "6e32a461-2400-47e2-ae03-2674c6d6ffdc"
      },
      "source": [
        "model.summary()"
      ],
      "execution_count": 5,
      "outputs": [
        {
          "output_type": "stream",
          "text": [
            "Model: \"sequential\"\n",
            "_________________________________________________________________\n",
            "Layer (type)                 Output Shape              Param #   \n",
            "=================================================================\n",
            "reshape (Reshape)            (None, 28, 28, 1)         0         \n",
            "_________________________________________________________________\n",
            "conv2d (Conv2D)              (None, 26, 26, 12)        120       \n",
            "_________________________________________________________________\n",
            "max_pooling2d (MaxPooling2D) (None, 13, 13, 12)        0         \n",
            "_________________________________________________________________\n",
            "flatten (Flatten)            (None, 2028)              0         \n",
            "_________________________________________________________________\n",
            "dense (Dense)                (None, 10)                20290     \n",
            "=================================================================\n",
            "Total params: 20,410\n",
            "Trainable params: 20,410\n",
            "Non-trainable params: 0\n",
            "_________________________________________________________________\n"
          ],
          "name": "stdout"
        }
      ]
    },
    {
      "cell_type": "markdown",
      "metadata": {
        "id": "n16JkSyNc5cf",
        "colab_type": "text"
      },
      "source": [
        "এখানে যে বাড়তি ডাইমেনশন আছে **None** শেপ দিয়ে প্রতিটা লেয়ারে, সেটা আসলে ব্যাচ ডাইমেনশন। যেহেতু ডেটা ব্যাচে প্রসেস হয়, সেকারণে টেন্সরফ্লো নিজে থেকে যোগ করে দেয়।\n"
      ]
    },
    {
      "cell_type": "markdown",
      "metadata": {
        "id": "za35DFJ5uFkX",
        "colab_type": "text"
      },
      "source": [
        "## মডেলের ইভালুয়েশন\n",
        "\n",
        "টেস্ট ডেটাসেট দিয়ে কেমন কাজ করে?"
      ]
    },
    {
      "cell_type": "code",
      "metadata": {
        "id": "sJI8nqFWmMwC",
        "colab_type": "code",
        "colab": {
          "base_uri": "https://localhost:8080/",
          "height": 52
        },
        "outputId": "f8edfb66-9c94-4fa2-a7c4-6318f89b39b4"
      },
      "source": [
        "test_loss, test_acc = model.evaluate(test_images, test_labels)\n",
        "\n",
        "print('Test accuracy:', test_acc)"
      ],
      "execution_count": 6,
      "outputs": [
        {
          "output_type": "stream",
          "text": [
            "10000/10000 [==============================] - 1s 68us/sample - loss: 0.0647 - accuracy: 0.9801\n",
            "Test accuracy: 0.9801\n"
          ],
          "name": "stdout"
        }
      ]
    },
    {
      "cell_type": "markdown",
      "metadata": {
        "id": "AWROBI4iv9fY",
        "colab_type": "text"
      },
      "source": [
        "## কেরাস মডেল থেকে টেন্সরফ্লো লাইটে কনভার্ট করছি এখানে"
      ]
    },
    {
      "cell_type": "markdown",
      "metadata": {
        "id": "bV99Izwykb-J",
        "colab_type": "text"
      },
      "source": [
        "ডিজিট ক্লাসিফায়ার মডেলকে টিএফ লাইট ফরম্যাটে আনছি।"
      ]
    },
    {
      "cell_type": "code",
      "metadata": {
        "id": "2fXStjR4mzkR",
        "colab_type": "code",
        "colab": {
          "base_uri": "https://localhost:8080/",
          "height": 35
        },
        "outputId": "3f372805-460c-461c-8f97-4813a301ec8d"
      },
      "source": [
        "# কনভার্টারের ব্যবহার\n",
        "converter = tf.lite.TFLiteConverter.from_keras_model(model)\n",
        "tflite_float_model = converter.convert()\n",
        "\n",
        "# মডেলের সাইজ কিলোবাইটে\n",
        "float_model_size = len(tflite_float_model) / 1024\n",
        "print('Float model size = %dKBs.' % float_model_size)"
      ],
      "execution_count": 7,
      "outputs": [
        {
          "output_type": "stream",
          "text": [
            "Float model size = 81KBs.\n"
          ],
          "name": "stdout"
        }
      ]
    },
    {
      "cell_type": "markdown",
      "metadata": {
        "id": "ItyEwAdCCVw6",
        "colab_type": "text"
      },
      "source": [
        "## টেন্সরফ্লো লাইট মডেল ডাউনলোড করছি এখানে\n",
        "\n",
        "এই মডেলটাকে ডাউনলোড করছি এখানে যাতে এটাকে অ্যান্ড্রয়েড অ্যাপে ঢুকিয়ে কাজ করতে পারি। এটাকে কপি করে রাখতে হবে দরকারী ফোল্ডারে।\n",
        "\n",
        "mnist.tflite ফাইলটা একবারে ডাউনলোড না হলে শুধুমাত্র এই সেলটাকে আবার চালাতে হবে।"
      ]
    },
    {
      "cell_type": "code",
      "metadata": {
        "id": "Q_Z5yLxrwbpI",
        "colab_type": "code",
        "colab": {
          "base_uri": "https://localhost:8080/",
          "height": 35
        },
        "outputId": "ebfb1697-6ebb-4894-efbd-3c203529ab1a"
      },
      "source": [
        "# ফাইলটাকে সেভ করে রাখি এখানে mnist.tflite হিসেবে\n",
        "f = open('mnist.tflite', \"wb\")\n",
        "f.write(tflite_float_model)\n",
        "f.close()\n",
        "\n",
        "# ডাউনলোড করি mnist.tflite হিসেবে\n",
        "from google.colab import files\n",
        "files.download('mnist.tflite')\n",
        "\n",
        "print('`mnist.tflite` has been downloaded')"
      ],
      "execution_count": 9,
      "outputs": [
        {
          "output_type": "stream",
          "text": [
            "`mnist.tflite` has been downloaded\n"
          ],
          "name": "stdout"
        }
      ]
    }
  ]
}